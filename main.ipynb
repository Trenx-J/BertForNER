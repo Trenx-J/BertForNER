{
 "cells": [
  {
   "cell_type": "code",
   "execution_count": 42,
   "metadata": {},
   "outputs": [],
   "source": [
    "import os\n",
    "import pandas as pd\n",
    "from torch.utils.data import Dataset,DataLoader\n",
    "from transformers import BertTokenizer\n",
    "from transformers import BertModel\n",
    "import torch\n",
    "import torch.nn as nn\n"
   ]
  },
  {
   "cell_type": "code",
   "execution_count": null,
   "metadata": {},
   "outputs": [],
   "source": [
    "class BertNerModel(nn.Module):\n",
    "    def __init__(self,class_num):\n",
    "        super().__init__()\n",
    "        self.bert=BertModel.from_pretrained(os.path.join(\"bert-base-chinese\"))\n",
    "        self.classifier=nn.Linear(768,class_num)\n",
    "\n",
    "        self.loss=nn.CrossEntropyLoss()\n",
    "    def forward(self,batch_index,batch_label=None):\n",
    "        self.bert(batch_index)\n",
    "        "
   ]
  },
  {
   "cell_type": "code",
   "execution_count": 35,
   "metadata": {},
   "outputs": [],
   "source": [
    "class BertDataset(Dataset):\n",
    "    def __init__(self,texts,lablels,label2index,max_len,tokenizer):\n",
    "        self.texts=texts\n",
    "        self.labels=lablels\n",
    "        self.label2index=label2index\n",
    "        self.tokenizer=tokenizer\n",
    "        self.max_len=max_len\n",
    "\n",
    "    def __getitem__(self, index):\n",
    "        text=self.texts[index]\n",
    "        label=self.labels[index][:self.max_len]\n",
    "\n",
    "        text_index=self.tokenizer.encode(text,add_special_token=True,max_length=self.max_len+2,truncation=True,return_tensors=\"pt\")\n",
    "        label_index=[0]+[self.label2index[i] for i in label]+[0]*(self.max_len-len(text)+1)\n",
    "        label_index=torch.tensor(label_index)\n",
    "\n",
    "        return text_index.reshape(-1),label_index\n",
    "    def __len__(self):\n",
    "        return len(self.texts)"
   ]
  },
  {
   "cell_type": "code",
   "execution_count": 36,
   "metadata": {},
   "outputs": [],
   "source": [
    "def load_data():\n",
    "    all_data=pd.read_csv(os.path.join(\"train_data_public.csv\"),encoding=\"utf-8\")\n",
    "    all_text=all_data[\"text\"].tolist()\n",
    "    texts=[]\n",
    "    for text in all_text:\n",
    "        tmp=[]\n",
    "        for char in text:\n",
    "            tmp.append(char)\n",
    "        texts.append(tmp)\n",
    "    all_label=all_data[\"BIO_anno\"].tolist()\n",
    "    labels=[]\n",
    "    for label in all_label:\n",
    "        label=label.split(\" \")\n",
    "        labels.append(label)\n",
    "\n",
    "    label2index={\"PAD\":0,\"UNK\":1}\n",
    "    for label in labels:\n",
    "        for l in label:\n",
    "             if l not in label2index:\n",
    "                 label2index[l] =len(label2index)\n",
    "\n",
    "    return texts,labels,label2index,list(label2index)\n"
   ]
  },
  {
   "cell_type": "code",
   "execution_count": 37,
   "metadata": {},
   "outputs": [],
   "source": [
    "batch_size=10\n",
    "epoch=100\n",
    "max_len=100"
   ]
  },
  {
   "cell_type": "code",
   "execution_count": 41,
   "metadata": {},
   "outputs": [],
   "source": [
    "tokenizer=BertTokenizer.from_pretrained(os.path.join(\"bert-base-chinese\"))\n",
    "texts,labels,label2index,index2label=load_data()\n",
    "train_dataset=BertDataset(texts,labels,label2index,max_len,tokenizer)\n",
    "train_dataloader=DataLoader(train_dataset,batch_size=batch_size,shuffle=False)"
   ]
  }
 ],
 "metadata": {
  "kernelspec": {
   "display_name": "forkg",
   "language": "python",
   "name": "python3"
  },
  "language_info": {
   "codemirror_mode": {
    "name": "ipython",
    "version": 3
   },
   "file_extension": ".py",
   "mimetype": "text/x-python",
   "name": "python",
   "nbconvert_exporter": "python",
   "pygments_lexer": "ipython3",
   "version": "3.7.15"
  },
  "orig_nbformat": 4
 },
 "nbformat": 4,
 "nbformat_minor": 2
}
