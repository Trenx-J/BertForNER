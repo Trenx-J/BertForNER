{
 "cells": [
  {
   "cell_type": "code",
   "execution_count": 23,
   "metadata": {},
   "outputs": [],
   "source": [
    "import os\n",
    "import pandas as pd\n",
    "from torch.utils.data import Dataset,DataLoader\n",
    "from transformers import BertTokenizer\n",
    "from transformers import BertModel\n",
    "import torch\n",
    "import torch.nn as nn\n",
    "from dataset.dataload import load_data,split_data\n",
    "import random\n",
    "import json\n"
   ]
  },
  {
   "cell_type": "code",
   "execution_count": null,
   "metadata": {},
   "outputs": [],
   "source": [
    "class BertNerModel(nn.Module):\n",
    "    def __init__(self,class_num):\n",
    "        super().__init__()\n",
    "        self.bert=BertModel.from_pretrained(os.path.join(\"bert-base-chinese\"))\n",
    "        self.classifier=nn.Linear(768,class_num)\n",
    "\n",
    "        self.loss=nn.CrossEntropyLoss()\n",
    "    def forward(self,batch_index,batch_label=None):\n",
    "        self.bert(batch_index)\n",
    "        "
   ]
  },
  {
   "cell_type": "code",
   "execution_count": 35,
   "metadata": {},
   "outputs": [],
   "source": [
    "class BertDataset(Dataset):\n",
    "    def __init__(self,texts,lablels,label2index,max_len,tokenizer):\n",
    "        self.texts=texts\n",
    "        self.labels=lablels\n",
    "        self.label2index=label2index\n",
    "        self.tokenizer=tokenizer\n",
    "        self.max_len=max_len\n",
    "\n",
    "    def __getitem__(self, index):\n",
    "        text=self.texts[index]\n",
    "        label=self.labels[index][:self.max_len]\n",
    "\n",
    "        text_index=self.tokenizer.encode(text,add_special_token=True,max_length=self.max_len+2,truncation=True,return_tensors=\"pt\")\n",
    "        label_index=[0]+[self.label2index[i] for i in label]+[0]*(self.max_len-len(text)+1)\n",
    "        label_index=torch.tensor(label_index)\n",
    "\n",
    "        return text_index.reshape(-1),label_index\n",
    "    def __len__(self):\n",
    "        return len(self.texts)"
   ]
  },
  {
   "cell_type": "code",
   "execution_count": 24,
   "metadata": {},
   "outputs": [],
   "source": [
    "texts,labels,label2index,index2label=load_data(os.path.join(\"data\",\"train_data_public.csv\"))\n",
    "train_text,train_label,vali_text,vali_label=split_data(texts,labels)"
   ]
  },
  {
   "cell_type": "code",
   "execution_count": 25,
   "metadata": {},
   "outputs": [],
   "source": [
    "with open(os.path.join(\"data\",\"l2i.txt\"),\"+a\") as f:\n",
    "    label2index_json = json.dumps(label2index)\n",
    "    f.write(label2index_json)\n",
    "with open(os.path.join(\"data\",\"i2l.txt\"),\"+a\") as f:\n",
    "    index2label_json = json.dumps(index2label)\n",
    "    f.write(index2label_json)\n",
    "with open(os.path.join(\"data\",\"train_text.txt\"),\"+a\") as f:\n",
    "    texts_json=json.dumps(train_text,ensure_ascii=False)\n",
    "    f.write(texts_json)\n",
    "with open(os.path.join(\"data\",\"train_label.txt\"),\"+a\") as f:\n",
    "    labels_json=json.dumps(train_label,ensure_ascii=False)\n",
    "    f.write(labels_json)\n",
    "with open(os.path.join(\"data\",\"vali_text.txt\"),\"+a\") as f:\n",
    "    texts_json=json.dumps(vali_text,ensure_ascii=False)\n",
    "    f.write(texts_json)\n",
    "with open(os.path.join(\"data\",\"vali_label.txt\"),\"+a\") as f:\n",
    "    labels_json=json.dumps(vali_label,ensure_ascii=False)\n",
    "    f.write(labels_json)\n"
   ]
  },
  {
   "cell_type": "code",
   "execution_count": 31,
   "metadata": {},
   "outputs": [],
   "source": [
    "def test():\n",
    "    with open(os.path.join(\"data\",\"train_text.txt\")) as f:\n",
    "        tmp = f.read()\n",
    "        train_text=json.loads(tmp)\n",
    "    with open(os.path.join(\"data\",\"train_label.txt\")) as f:\n",
    "        tmp = f.read()\n",
    "        train_label=json.loads(tmp)\n",
    "    with open(os.path.join(\"data\",\"vali_text.txt\")) as f:\n",
    "        tmp = f.read()\n",
    "        vali_text=json.loads(tmp)\n",
    "    with open(os.path.join(\"data\",\"vali_label.txt\")) as f:\n",
    "        tmp = f.read()\n",
    "        vali_label=json.loads(tmp)\n",
    "    with open(os.path.join(\"data\",\"i2l.txt\")) as f:\n",
    "        tmp = f.read()\n",
    "        index2label=json.loads(tmp)\n",
    "    with open(os.path.join(\"data\",\"l2i.txt\")) as f:\n",
    "        tmp = f.read()\n",
    "        label2index=json.loads(tmp)\n",
    "    return train_text,train_label,vali_text,vali_label,label2index,index2label\n"
   ]
  },
  {
   "cell_type": "code",
   "execution_count": 26,
   "metadata": {},
   "outputs": [
    {
     "ename": "UnsupportedOperation",
     "evalue": "not writable",
     "output_type": "error",
     "traceback": [
      "\u001b[1;31m---------------------------------------------------------------------------\u001b[0m",
      "\u001b[1;31mUnsupportedOperation\u001b[0m                      Traceback (most recent call last)",
      "\u001b[1;32m~\\AppData\\Local\\Temp\\ipykernel_28540\\1671713913.py\u001b[0m in \u001b[0;36m<module>\u001b[1;34m\u001b[0m\n\u001b[0;32m      1\u001b[0m \u001b[1;32mwith\u001b[0m \u001b[0mopen\u001b[0m\u001b[1;33m(\u001b[0m\u001b[0mos\u001b[0m\u001b[1;33m.\u001b[0m\u001b[0mpath\u001b[0m\u001b[1;33m.\u001b[0m\u001b[0mjoin\u001b[0m\u001b[1;33m(\u001b[0m\u001b[1;34m\"data\"\u001b[0m\u001b[1;33m,\u001b[0m\u001b[1;34m\"vali_label.txt\"\u001b[0m\u001b[1;33m)\u001b[0m\u001b[1;33m)\u001b[0m \u001b[1;32mas\u001b[0m \u001b[0mf\u001b[0m\u001b[1;33m:\u001b[0m\u001b[1;33m\u001b[0m\u001b[1;33m\u001b[0m\u001b[0m\n\u001b[0;32m      2\u001b[0m     \u001b[0mtexts_json\u001b[0m\u001b[1;33m=\u001b[0m\u001b[0mjson\u001b[0m\u001b[1;33m.\u001b[0m\u001b[0mdumps\u001b[0m\u001b[1;33m(\u001b[0m\u001b[0mtexts\u001b[0m\u001b[1;33m)\u001b[0m\u001b[1;33m\u001b[0m\u001b[1;33m\u001b[0m\u001b[0m\n\u001b[1;32m----> 3\u001b[1;33m     \u001b[0mf\u001b[0m\u001b[1;33m.\u001b[0m\u001b[0mwrite\u001b[0m\u001b[1;33m(\u001b[0m\u001b[0mtexts_json\u001b[0m\u001b[1;33m)\u001b[0m\u001b[1;33m\u001b[0m\u001b[1;33m\u001b[0m\u001b[0m\n\u001b[0m",
      "\u001b[1;31mUnsupportedOperation\u001b[0m: not writable"
     ]
    }
   ],
   "source": [
    "with open(os.path.join(\"data\",\"vali_label.txt\"),\"+a\") as f:\n",
    "    texts_json=json.dumps(texts,ensure_ascii=False)\n",
    "    f.write(texts_json)"
   ]
  },
  {
   "cell_type": "code",
   "execution_count": 33,
   "metadata": {},
   "outputs": [],
   "source": [
    "train_text,train_label,vali_text,vali_label,label2index,index2label=test()"
   ]
  },
  {
   "cell_type": "code",
   "execution_count": null,
   "metadata": {},
   "outputs": [],
   "source": []
  },
  {
   "cell_type": "code",
   "execution_count": 27,
   "metadata": {},
   "outputs": [],
   "source": [
    "with open(os.path.join(\"data\",\"vali_label.txt\"),\"r\") as f: \n",
    "    str = f.read()\n",
    "    tmp=json.loads(str)"
   ]
  },
  {
   "cell_type": "code",
   "execution_count": 37,
   "metadata": {},
   "outputs": [],
   "source": [
    "batch_size=10\n",
    "epoch=100\n",
    "max_len=100"
   ]
  },
  {
   "cell_type": "code",
   "execution_count": 41,
   "metadata": {},
   "outputs": [],
   "source": [
    "tokenizer=BertTokenizer.from_pretrained(os.path.join(\"bert-base-chinese\"))\n",
    "texts,labels,label2index,index2label=load_data()\n",
    "train_dataset=BertDataset(texts,labels,label2index,max_len,tokenizer)\n",
    "train_dataloader=DataLoader(train_dataset,batch_size=batch_size,shuffle=False)"
   ]
  }
 ],
 "metadata": {
  "kernelspec": {
   "display_name": "forkg",
   "language": "python",
   "name": "python3"
  },
  "language_info": {
   "codemirror_mode": {
    "name": "ipython",
    "version": 3
   },
   "file_extension": ".py",
   "mimetype": "text/x-python",
   "name": "python",
   "nbconvert_exporter": "python",
   "pygments_lexer": "ipython3",
   "version": "3.7.15"
  },
  "orig_nbformat": 4
 },
 "nbformat": 4,
 "nbformat_minor": 2
}
